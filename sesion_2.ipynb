{
  "nbformat": 4,
  "nbformat_minor": 0,
  "metadata": {
    "colab": {
      "name": "sesion 2",
      "provenance": [],
      "collapsed_sections": [],
      "authorship_tag": "ABX9TyPDhBAevCx33Q5OA/vrYlCh",
      "include_colab_link": true
    },
    "kernelspec": {
      "name": "python3",
      "display_name": "Python 3"
    },
    "language_info": {
      "name": "python"
    }
  },
  "cells": [
    {
      "cell_type": "markdown",
      "metadata": {
        "id": "view-in-github",
        "colab_type": "text"
      },
      "source": [
        "<a href=\"https://colab.research.google.com/github/CristofherSebastianPalominoFano/Complejidad-Algoritmica-2022/blob/main/sesion_2.ipynb\" target=\"_parent\"><img src=\"https://colab.research.google.com/assets/colab-badge.svg\" alt=\"Open In Colab\"/></a>"
      ]
    },
    {
      "cell_type": "markdown",
      "source": [
        "1) Problema de la rata en un laberinto usando el retroceso"
      ],
      "metadata": {
        "id": "8t367pGhrEy7"
      }
    },
    {
      "cell_type": "code",
      "execution_count": null,
      "metadata": {
        "id": "ImFZHcWVq2CB"
      },
      "outputs": [],
      "source": [
        "n = 4\n",
        "\n",
        "def isSafe(maze, x, y):\n",
        "    if x >= 0 and x < n and y >= 0 and y < n and maze[x][y] == 1:\n",
        "        return True\n",
        "     \n",
        "    return False\n",
        "    \n",
        "def SolveMazeUtil(maze, x, y, sol):\n",
        "    #If x and y is the goal then return True from here only\n",
        "    if x== n-1 and y==n-1 and maze[x][y] == 1:\n",
        "        sol[x][y] = 1\n",
        "        return True\n",
        "        \n",
        "    #check if x-Y pos is valid\n",
        "    if isSafe(maze, x, y):\n",
        "        #if it is already part of sol\n",
        "        if sol[x][y] == 1:\n",
        "            return False\n",
        "        \n",
        "        #mark x-y as safe\n",
        "        sol[x][y] = 1\n",
        "        \n",
        "        #Move Forward in X-dir\n",
        "        if SolveMazeUtil(maze, x+1, y, sol):\n",
        "            return True\n",
        "            \n",
        "        #If x does not give sol then try to move in Y dir\n",
        "        if SolveMazeUtil(maze, x, y+1, sol):\n",
        "            return True\n",
        "            \n",
        "        #If moving forward in either X-Y does not give sol then Backtrack\n",
        "        if SolveMazeUtil(maze, x-1, y, sol):\n",
        "            return True\n",
        "        \n",
        "        if SolveMazeUtil(maze, x, y-1, sol):\n",
        "            return True\n",
        "            \n",
        "        sol[x][y] = 0\n",
        "        return False\n",
        "        \n",
        "def solveMaze(maze):\n",
        "    sol = [[0 for j in range(4)] for i in range(4)]\n",
        "    if SolveMazeUtil(maze, 0, 0, sol) == False:\n",
        "        print(\"Solution doesn't exist\");\n",
        "        return False\n",
        "     \n",
        "    #print(sol)\n",
        "    return True"
      ]
    },
    {
      "cell_type": "code",
      "source": [
        "maze = [[1, 0, 0, 0],\n",
        "        [1, 1, 0, 1],\n",
        "        [0, 1, 0, 0],\n",
        "        [1, 1, 1, 1] \n",
        "       ]\n",
        "              \n",
        "print(solveMaze(maze))\n",
        "assert solveMaze(maze) == True"
      ],
      "metadata": {
        "colab": {
          "base_uri": "https://localhost:8080/"
        },
        "id": "OuQivBdNraxF",
        "outputId": "6f5cf290-da93-4287-87b6-5559d732e91c"
      },
      "execution_count": null,
      "outputs": [
        {
          "output_type": "stream",
          "name": "stdout",
          "text": [
            "True\n"
          ]
        }
      ]
    },
    {
      "cell_type": "markdown",
      "source": [
        "2) El problema del rompecabezas N-Queens"
      ],
      "metadata": {
        "id": "oGHsAHFFya_k"
      }
    },
    {
      "cell_type": "code",
      "source": [
        "import numpy as np\n",
        "import matplotlib.pyplot as plt\n",
        "\n",
        "def draw(board):\n",
        "  n = len(board)\n",
        "  b = np.zeros((n, n, 3), dtype=np.int)\n",
        "  b += [255, 150, 80]\n",
        "  b[::2, ::2] = [255, 220, 150]\n",
        "  b[1::2, 1::2] = [255, 220, 150]\n",
        "\n",
        "  _, ax = plt.subplots()\n",
        "  ax.imshow(b)\n",
        "  for row, col in enumerate(board):\n",
        "    ax.text(col, row, u\"\\u265b\", fontsize=200/n, va=\"center\", ha=\"center\")\n",
        "\n",
        "  ax.set(xticks=[], yticks=[])\n",
        "  ax.axis(\"image\")\n",
        "draw([ 2, 0, 3, 1])"
      ],
      "metadata": {
        "colab": {
          "base_uri": "https://localhost:8080/",
          "height": 324
        },
        "id": "P7RE5Sqat37w",
        "outputId": "6361a64a-5d2a-4390-e237-0e175d272a8c"
      },
      "execution_count": null,
      "outputs": [
        {
          "output_type": "stream",
          "name": "stderr",
          "text": [
            "/usr/local/lib/python3.7/dist-packages/ipykernel_launcher.py:6: DeprecationWarning: `np.int` is a deprecated alias for the builtin `int`. To silence this warning, use `int` by itself. Doing this will not modify any behavior and is safe. When replacing `np.int`, you may wish to use e.g. `np.int64` or `np.int32` to specify the precision. If you wish to review your current use, check the release note link for additional information.\n",
            "Deprecated in NumPy 1.20; for more details and guidance: https://numpy.org/devdocs/release/1.20.0-notes.html#deprecations\n",
            "  \n"
          ]
        },
        {
          "output_type": "display_data",
          "data": {
            "text/plain": [
              "<Figure size 432x288 with 1 Axes>"
            ],
            "image/png": "[encoded data removed]"
          },
          "metadata": {}
        }
      ]
    },
    {
      "cell_type": "code",
      "source": [
        "def valid(board, row, col):\n",
        "  n = len(board)\n",
        "  for row_i in range(row):\n",
        "    col_i = board[row_i]\n",
        "    delta = row - row_i\n",
        "    if col_i == col or col_i - delta == col or col_i + delta == col:\n",
        "      return False\n",
        "  \n",
        "  return True\n",
        "\n",
        "def nqueens(board, row):\n",
        "  n = len(board)\n",
        "  if row == n:\n",
        "    draw(board)\n",
        "  else:\n",
        "    for col_i in range(n):\n",
        "      if valid(board, row, col_i):\n",
        "        board[row] = col_i\n",
        "        nqueens(board, row + 1)\n",
        "        "
      ],
      "metadata": {
        "id": "k_RZZoczuvMw"
      },
      "execution_count": null,
      "outputs": []
    },
    {
      "cell_type": "code",
      "source": [
        "n = 4\n",
        "nqueens([-1]*n, 0)"
      ],
      "metadata": {
        "colab": {
          "base_uri": "https://localhost:8080/",
          "height": 559
        },
        "id": "BQHmtLAuu-Ll",
        "outputId": "38f7ebdf-d23b-4b01-d2e2-2d7b7f841640"
      },
      "execution_count": null,
      "outputs": [
        {
          "output_type": "stream",
          "name": "stderr",
          "text": [
            "/usr/local/lib/python3.7/dist-packages/ipykernel_launcher.py:6: DeprecationWarning: `np.int` is a deprecated alias for the builtin `int`. To silence this warning, use `int` by itself. Doing this will not modify any behavior and is safe. When replacing `np.int`, you may wish to use e.g. `np.int64` or `np.int32` to specify the precision. If you wish to review your current use, check the release note link for additional information.\n",
            "Deprecated in NumPy 1.20; for more details and guidance: https://numpy.org/devdocs/release/1.20.0-notes.html#deprecations\n",
            "  \n"
          ]
        },
        {
          "output_type": "display_data",
          "data": {
            "text/plain": [
              "<Figure size 432x288 with 1 Axes>"
            ],
            "image/png": "[encoded data removed]"
          },
          "metadata": {}
        },
        {
          "output_type": "display_data",
          "data": {
            "text/plain": [
              "<Figure size 432x288 with 1 Axes>"
            ],
            "image/png": "[encoded data removed]"
          },
          "metadata": {}
        }
      ]
    },
    {
      "cell_type": "code",
      "source": [
        "def nQueens(n):\n",
        "    res = []\n",
        "\n",
        "    def isSafe(mat, row, col):\n",
        "        for i in range(row):\n",
        "            if mat[i][col] == 1:\n",
        "                return False\n",
        "            \n",
        "        #check if queen already present in upper left diagonal\n",
        "        i, j = row, col\n",
        "        while i>=0 and j >= 0:\n",
        "            if mat[i][j] == 1:\n",
        "                return False\n",
        "            i = i-1\n",
        "            j = j-1\n",
        "            \n",
        "        #check for upper right diagonal        \n",
        "        i, j = row, col\n",
        "        while i>=0 and j<len(mat):\n",
        "            if mat[i][j] == 1:\n",
        "                return False\n",
        "            i = i-1\n",
        "            j = j+1\n",
        "        return True\n",
        "    \n",
        "    #function to add solution\n",
        "    def addSolution(chessboard):\n",
        "        currans = []\n",
        "        for i in chessboard:\n",
        "            currans.extend(i)\n",
        "        res.append(currans)\n",
        "    \n",
        "    #recursive function\n",
        "    def SolveNQueens(mat, row):\n",
        "        if row == len(mat):\n",
        "            addSolution(mat)\n",
        "            return\n",
        "\n",
        "        for i in range(len(mat)):\n",
        "            if isSafe(mat, row, i):\n",
        "                mat[row][i] = 1\n",
        "\n",
        "                SolveNQueens(mat, row+1)\n",
        "\n",
        "                mat[row][i] = 0\n",
        "    \n",
        "    \n",
        "    mat = [[0 for _ in range(n)] for _ in range(n)]\n",
        "    SolveNQueens(mat, 0)\n",
        "    return res\n",
        "\n",
        "n = 4\n",
        "res = nQueens(n)\n",
        "print(res)"
      ],
      "metadata": {
        "colab": {
          "base_uri": "https://localhost:8080/"
        },
        "id": "76jv3YE0xR7t",
        "outputId": "363a9cce-67d4-4d2a-b45b-c7df016fdaab"
      },
      "execution_count": null,
      "outputs": [
        {
          "output_type": "stream",
          "name": "stdout",
          "text": [
            "[[0, 1, 0, 0, 0, 0, 0, 1, 1, 0, 0, 0, 0, 0, 1, 0], [0, 0, 1, 0, 1, 0, 0, 0, 0, 0, 0, 1, 0, 1, 0, 0]]\n"
          ]
        }
      ]
    }
  ]
}
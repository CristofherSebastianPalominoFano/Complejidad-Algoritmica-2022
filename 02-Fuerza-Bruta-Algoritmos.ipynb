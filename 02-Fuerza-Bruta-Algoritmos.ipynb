{
 "cells": [
  {
   "cell_type": "code",
   "execution_count": 4,
   "id": "4d28e058",
   "metadata": {},
   "outputs": [
    {
     "name": "stdout",
     "output_type": "stream",
     "text": [
      "10\n",
      "20\n",
      "10 20\n"
     ]
    }
   ],
   "source": [
    "def ejemplo (p1,p2):\n",
    "    print(p1)\n",
    "    print(p2)\n",
    "    return p1, p2\n",
    "\n",
    "n1,n2 = ejemplo(10,20)\n",
    "print(n1, n2)"
   ]
  },
  {
   "cell_type": "code",
   "execution_count": 6,
   "id": "b6401e46",
   "metadata": {},
   "outputs": [
    {
     "data": {
      "text/plain": [
       "50"
      ]
     },
     "execution_count": 6,
     "metadata": {},
     "output_type": "execute_result"
    }
   ],
   "source": [
    "def sumar(a,b: int):\n",
    "    return a + b\n",
    "\n",
    "sumar(20,30)"
   ]
  },
  {
   "cell_type": "markdown",
   "id": "ae0bfa20",
   "metadata": {},
   "source": [
    "### Selection Sort"
   ]
  },
  {
   "cell_type": "code",
   "execution_count": 8,
   "id": "7458f841",
   "metadata": {},
   "outputs": [],
   "source": [
    "def selectionSort(L:list):\n",
    "    n = len(L)\n",
    "    for i in range(n-1):\n",
    "        min_pos = i\n",
    "        for j in range(i+1, n):\n",
    "            if L[j] < L[min_pos]:\n",
    "                min_pos = j\n",
    "                \n",
    "        if min_pos != i:\n",
    "            L[min_pos], L[i] = L[i], L[min_pos]"
   ]
  },
  {
   "cell_type": "code",
   "execution_count": 9,
   "id": "ac20dc48",
   "metadata": {},
   "outputs": [
    {
     "name": "stdout",
     "output_type": "stream",
     "text": [
      "[0, 1, 2, 3, 4, 5, 6, 7, 8, 9]\n"
     ]
    }
   ],
   "source": [
    "#como crear una lista\n",
    "A = [i for i in range(10)]\n",
    "print(A)"
   ]
  },
  {
   "cell_type": "code",
   "execution_count": 12,
   "id": "b0416fb8",
   "metadata": {},
   "outputs": [
    {
     "name": "stdout",
     "output_type": "stream",
     "text": [
      "[0, 1, 2, 3, 4, 5, 6, 7, 8, 9]\n"
     ]
    }
   ],
   "source": [
    "A = [0, 1, 2, 3, 4, 5, 6, 7, 8, 9]\n",
    "print(A)"
   ]
  },
  {
   "cell_type": "code",
   "execution_count": 16,
   "id": "dfbd87b6",
   "metadata": {},
   "outputs": [
    {
     "name": "stdout",
     "output_type": "stream",
     "text": [
      "[0, 4, 8, 12, 16]\n"
     ]
    }
   ],
   "source": [
    "B = [i for i in range(0, 20, 4)]\n",
    "print(B)"
   ]
  },
  {
   "cell_type": "code",
   "execution_count": 22,
   "id": "abbb1d52",
   "metadata": {},
   "outputs": [
    {
     "name": "stdout",
     "output_type": "stream",
     "text": [
      "46\n"
     ]
    }
   ],
   "source": [
    "#lista con valores aleatorios\n",
    "import random as r\n",
    "print(r.randint(20,50))"
   ]
  },
  {
   "cell_type": "code",
   "execution_count": 23,
   "id": "1874c211",
   "metadata": {},
   "outputs": [
    {
     "name": "stdout",
     "output_type": "stream",
     "text": [
      "[50, 34, 36, 22, 28, 29, 26, 38, 36, 22]\n"
     ]
    }
   ],
   "source": [
    "C = [r.randint(20,50) for _ in range(10) ]\n",
    "print(C)"
   ]
  },
  {
   "cell_type": "code",
   "execution_count": 24,
   "id": "12a1ffd4",
   "metadata": {},
   "outputs": [],
   "source": [
    "selectionSort(C)"
   ]
  },
  {
   "cell_type": "code",
   "execution_count": 25,
   "id": "ee06fdbe",
   "metadata": {},
   "outputs": [
    {
     "name": "stdout",
     "output_type": "stream",
     "text": [
      "[22, 22, 26, 28, 29, 34, 36, 36, 38, 50]\n"
     ]
    }
   ],
   "source": [
    "print(C)"
   ]
  },
  {
   "cell_type": "markdown",
   "id": "4d708548",
   "metadata": {},
   "source": [
    "#### Bubble Sort"
   ]
  },
  {
   "cell_type": "code",
   "execution_count": 26,
   "id": "93a3e24d",
   "metadata": {},
   "outputs": [],
   "source": [
    "def bubbleSort(L2):\n",
    "    n = len(L2)\n",
    "    for i in range (n-1):\n",
    "        for j in range (n-1-i):\n",
    "            if L2[j] > L2[j+1]:\n",
    "                L2[j], L2[j+1] = L2[j+1], L2[j]\n",
    "            "
   ]
  },
  {
   "cell_type": "code",
   "execution_count": 27,
   "id": "11bb83b1",
   "metadata": {},
   "outputs": [
    {
     "name": "stdout",
     "output_type": "stream",
     "text": [
      "[89, 78, 93, 98, 84, 69, 9, 83, 63, 88]\n"
     ]
    }
   ],
   "source": [
    "D = [r.randint(1,100) for _ in range(10) ]\n",
    "print(D)"
   ]
  },
  {
   "cell_type": "code",
   "execution_count": 28,
   "id": "50d068d6",
   "metadata": {},
   "outputs": [
    {
     "name": "stdout",
     "output_type": "stream",
     "text": [
      "[9, 63, 69, 78, 83, 84, 88, 89, 93, 98]\n"
     ]
    }
   ],
   "source": [
    "bubbleSort(D)\n",
    "print(D)"
   ]
  },
  {
   "cell_type": "code",
   "execution_count": null,
   "id": "f5f6b24c",
   "metadata": {},
   "outputs": [],
   "source": []
  }
 ],
 "metadata": {
  "kernelspec": {
   "display_name": "Python 3 (ipykernel)",
   "language": "python",
   "name": "python3"
  },
  "language_info": {
   "codemirror_mode": {
    "name": "ipython",
    "version": 3
   },
   "file_extension": ".py",
   "mimetype": "text/x-python",
   "name": "python",
   "nbconvert_exporter": "python",
   "pygments_lexer": "ipython3",
   "version": "3.8.12"
  }
 },
 "nbformat": 4,
 "nbformat_minor": 5
}

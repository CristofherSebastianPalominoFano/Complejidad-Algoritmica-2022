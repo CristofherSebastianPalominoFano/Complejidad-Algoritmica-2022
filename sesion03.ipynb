{
  "cells": [
    {
      "cell_type": "markdown",
      "metadata": {},
      "source": [
        "01_Fuerza_Bruta_StringMatching"
      ]
    },
    {
      "cell_type": "markdown",
      "metadata": {
        "id": "fYxNWwmxflPT"
      },
      "source": [
        "Slicing"
      ]
    },
    {
      "cell_type": "code",
      "execution_count": 1,
      "metadata": {
        "colab": {
          "base_uri": "https://localhost:8080/"
        },
        "id": "jDsesTu-fnSO",
        "outputId": "f6dd5f98-da64-4680-bc9d-58cb6e85578f"
      },
      "outputs": [
        {
          "name": "stdout",
          "output_type": "stream",
          "text": [
            "[2, 3]\n"
          ]
        }
      ],
      "source": [
        "lista = [1,2,3,4,5,6,7]\n",
        "print(lista[1:3])"
      ]
    },
    {
      "cell_type": "code",
      "execution_count": 2,
      "metadata": {
        "colab": {
          "base_uri": "https://localhost:8080/"
        },
        "id": "0qrJDdf5gIuE",
        "outputId": "eb7ff07e-7d98-445b-f4a3-e0c97cf64cbc"
      },
      "outputs": [
        {
          "name": "stdout",
          "output_type": "stream",
          "text": [
            "leji\n"
          ]
        }
      ],
      "source": [
        "cadena = \"Complejidad\"\n",
        "print(cadena[4:8])"
      ]
    },
    {
      "cell_type": "markdown",
      "metadata": {
        "id": "aXZLElLpglmd"
      },
      "source": [
        "Enumerate"
      ]
    },
    {
      "cell_type": "code",
      "execution_count": 3,
      "metadata": {
        "id": "6wVEaPgYgoNn"
      },
      "outputs": [],
      "source": [
        "lenguajes = [\"Java\", \"C\", \"C++\", \"Rust\", \"Elixir\"]"
      ]
    },
    {
      "cell_type": "code",
      "execution_count": 6,
      "metadata": {
        "colab": {
          "base_uri": "https://localhost:8080/"
        },
        "id": "hLU0R7jjg2h3",
        "outputId": "d132a9a9-2076-4986-d6ee-9dd786940ae6"
      },
      "outputs": [
        {
          "data": {
            "text/plain": [
              "[(0, 'Java'), (1, 'C'), (2, 'C++'), (3, 'Rust'), (4, 'Elixir')]"
            ]
          },
          "execution_count": 6,
          "metadata": {},
          "output_type": "execute_result"
        }
      ],
      "source": [
        "list(enumerate(lenguajes))"
      ]
    },
    {
      "cell_type": "code",
      "execution_count": 7,
      "metadata": {
        "colab": {
          "base_uri": "https://localhost:8080/"
        },
        "id": "Yg4vBYS0hv9-",
        "outputId": "83b8fb26-7743-4903-9a42-47b89543ad40"
      },
      "outputs": [
        {
          "name": "stdout",
          "output_type": "stream",
          "text": [
            "0 -> C\n",
            "1 -> o\n",
            "2 -> m\n",
            "3 -> p\n",
            "4 -> l\n",
            "5 -> e\n",
            "6 -> j\n",
            "7 -> i\n",
            "8 -> d\n",
            "9 -> a\n",
            "10 -> d\n"
          ]
        }
      ],
      "source": [
        "for i, c in enumerate(cadena):\n",
        "  print (f\"{i} -> {c}\")"
      ]
    },
    {
      "cell_type": "code",
      "execution_count": 12,
      "metadata": {
        "id": "C-N-BIsViobU"
      },
      "outputs": [],
      "source": [
        "text = \"patriciapatriciapatricia\"\n",
        "p = \"a\"\n",
        "\n",
        "n = len(text)\n",
        "l = len(p)\n",
        "resultado = []\n",
        "\n",
        "for i in range(n - l):\n",
        "  if p == text[i:i+l]:\n",
        "    resultado.append(i)\n"
      ]
    },
    {
      "cell_type": "code",
      "execution_count": 13,
      "metadata": {
        "colab": {
          "base_uri": "https://localhost:8080/"
        },
        "id": "HDtgbQvqkpAp",
        "outputId": "c2d9c0a5-ed69-4004-fd32-ad69a52b4ff9"
      },
      "outputs": [
        {
          "data": {
            "text/plain": [
              "[1, 7, 9, 15, 17]"
            ]
          },
          "execution_count": 13,
          "metadata": {},
          "output_type": "execute_result"
        }
      ],
      "source": [
        "resultado"
      ]
    },
    {
      "cell_type": "code",
      "execution_count": 24,
      "metadata": {
        "id": "IIkmjLEclVVL"
      },
      "outputs": [],
      "source": [
        "def stringmatch(text,p):\n",
        "  n = len(text)\n",
        "  l = len(p)\n",
        "  resultado = []\n",
        "\n",
        "  for i in range(n - l +1 ):\n",
        "    if p == text[i:i+l]:\n",
        "      resultado.append(i)\n",
        "\n",
        "  return resultado"
      ]
    },
    {
      "cell_type": "code",
      "execution_count": 25,
      "metadata": {
        "colab": {
          "base_uri": "https://localhost:8080/"
        },
        "id": "A-CgAx0Ylni5",
        "outputId": "f97fa86b-cec6-4846-ade9-16df360ddbfb"
      },
      "outputs": [
        {
          "data": {
            "text/plain": [
              "[0, 28]"
            ]
          },
          "execution_count": 25,
          "metadata": {},
          "output_type": "execute_result"
        }
      ],
      "source": [
        "stringmatch(\"upc complejidad algoritmica upc\", \"upc\")"
      ]
    }
  ],
  "metadata": {
    "colab": {
      "name": "01-Fuerza-Bruta-StringMatching.ipynb",
      "provenance": []
    },
    "kernelspec": {
      "display_name": "Python 3",
      "name": "python3"
    },
    "language_info": {
      "name": "python"
    }
  },
  "nbformat": 4,
  "nbformat_minor": 0
}

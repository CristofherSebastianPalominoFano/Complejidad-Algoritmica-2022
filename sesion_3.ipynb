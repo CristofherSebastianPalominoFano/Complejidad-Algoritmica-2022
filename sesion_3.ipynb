{
  "nbformat": 4,
  "nbformat_minor": 0,
  "metadata": {
    "colab": {
      "name": "Untitled17.ipynb",
      "provenance": []
    },
    "kernelspec": {
      "name": "python3",
      "display_name": "Python 3"
    },
    "language_info": {
      "name": "python"
    }
  },
  "cells": [
    {
      "cell_type": "code",
      "execution_count": 30,
      "metadata": {
        "colab": {
          "base_uri": "https://localhost:8080/"
        },
        "id": "evPhtLuE7pae",
        "outputId": "94c00a5c-6dfb-4f2d-bcd5-26cdf2a7816e"
      },
      "outputs": [
        {
          "output_type": "stream",
          "name": "stdout",
          "text": [
            "['cia', 'cia', 'cia']\n",
            "3\n",
            "cia\n",
            "match 1 cia start index 5 end index 8\n",
            "5\n",
            "match 2 cia start index 13 end index 16\n",
            "13\n",
            "match 3 cia start index 21 end index 24\n",
            "21\n"
          ]
        }
      ],
      "source": [
        "import re\n",
        "texto = 'patriciapatriciapatricia'\n",
        "count = 0\n",
        "print(re.findall(r'cia', texto))\n",
        "print(len(re.findall(r'cia', texto)))\n",
        "res = re.search(r'cia', texto)\n",
        "print(res.group())\n",
        "for match in re.finditer(r'cia', texto):\n",
        "    count += 1\n",
        "    print(\"match\", count, match.group(), \"start index\", match.start(), \"end index\", match.end())\n",
        "    s=match.start()\n",
        "    print(s)"
      ]
    }
  ]
}
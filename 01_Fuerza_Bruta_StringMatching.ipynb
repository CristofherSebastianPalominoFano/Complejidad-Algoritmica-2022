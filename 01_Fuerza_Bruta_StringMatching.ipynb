{
  "nbformat": 4,
  "nbformat_minor": 0,
  "metadata": {
    "colab": {
      "name": "01-Fuerza-Bruta-StringMatching.ipynb",
      "provenance": []
    },
    "kernelspec": {
      "name": "python3",
      "display_name": "Python 3"
    },
    "language_info": {
      "name": "python"
    }
  },
  "cells": [
    {
      "cell_type": "markdown",
      "source": [
        "Slicing"
      ],
      "metadata": {
        "id": "fYxNWwmxflPT"
      }
    },
    {
      "cell_type": "code",
      "source": [
        "lista = [1,2,3,4,5,6,7]\n",
        "print(lista[1:3])"
      ],
      "metadata": {
        "colab": {
          "base_uri": "https://localhost:8080/"
        },
        "id": "jDsesTu-fnSO",
        "outputId": "f6dd5f98-da64-4680-bc9d-58cb6e85578f"
      },
      "execution_count": 1,
      "outputs": [
        {
          "output_type": "stream",
          "name": "stdout",
          "text": [
            "[2, 3]\n"
          ]
        }
      ]
    },
    {
      "cell_type": "code",
      "source": [
        "cadena = \"Complejidad\"\n",
        "print(cadena[4:8])"
      ],
      "metadata": {
        "colab": {
          "base_uri": "https://localhost:8080/"
        },
        "id": "0qrJDdf5gIuE",
        "outputId": "eb7ff07e-7d98-445b-f4a3-e0c97cf64cbc"
      },
      "execution_count": 2,
      "outputs": [
        {
          "output_type": "stream",
          "name": "stdout",
          "text": [
            "leji\n"
          ]
        }
      ]
    },
    {
      "cell_type": "markdown",
      "source": [
        "Enumerate"
      ],
      "metadata": {
        "id": "aXZLElLpglmd"
      }
    },
    {
      "cell_type": "code",
      "source": [
        "lenguajes = [\"Java\", \"C\", \"C++\", \"Rust\", \"Elixir\"]"
      ],
      "metadata": {
        "id": "6wVEaPgYgoNn"
      },
      "execution_count": 3,
      "outputs": []
    },
    {
      "cell_type": "code",
      "source": [
        "list(enumerate(lenguajes))"
      ],
      "metadata": {
        "colab": {
          "base_uri": "https://localhost:8080/"
        },
        "id": "hLU0R7jjg2h3",
        "outputId": "d132a9a9-2076-4986-d6ee-9dd786940ae6"
      },
      "execution_count": 6,
      "outputs": [
        {
          "output_type": "execute_result",
          "data": {
            "text/plain": [
              "[(0, 'Java'), (1, 'C'), (2, 'C++'), (3, 'Rust'), (4, 'Elixir')]"
            ]
          },
          "metadata": {},
          "execution_count": 6
        }
      ]
    },
    {
      "cell_type": "code",
      "source": [
        "for i, c in enumerate(cadena):\n",
        "  print (f\"{i} -> {c}\")"
      ],
      "metadata": {
        "colab": {
          "base_uri": "https://localhost:8080/"
        },
        "id": "Yg4vBYS0hv9-",
        "outputId": "83b8fb26-7743-4903-9a42-47b89543ad40"
      },
      "execution_count": 7,
      "outputs": [
        {
          "output_type": "stream",
          "name": "stdout",
          "text": [
            "0 -> C\n",
            "1 -> o\n",
            "2 -> m\n",
            "3 -> p\n",
            "4 -> l\n",
            "5 -> e\n",
            "6 -> j\n",
            "7 -> i\n",
            "8 -> d\n",
            "9 -> a\n",
            "10 -> d\n"
          ]
        }
      ]
    },
    {
      "cell_type": "code",
      "source": [
        "text = \"patriciapatriciapatricia\"\n",
        "p = \"a\"\n",
        "\n",
        "n = len(text)\n",
        "l = len(p)\n",
        "resultado = []\n",
        "\n",
        "for i in range(n - l):\n",
        "  if p == text[i:i+l]:\n",
        "    resultado.append(i)\n"
      ],
      "metadata": {
        "id": "C-N-BIsViobU"
      },
      "execution_count": 12,
      "outputs": []
    },
    {
      "cell_type": "code",
      "source": [
        "resultado"
      ],
      "metadata": {
        "colab": {
          "base_uri": "https://localhost:8080/"
        },
        "id": "HDtgbQvqkpAp",
        "outputId": "c2d9c0a5-ed69-4004-fd32-ad69a52b4ff9"
      },
      "execution_count": 13,
      "outputs": [
        {
          "output_type": "execute_result",
          "data": {
            "text/plain": [
              "[1, 7, 9, 15, 17]"
            ]
          },
          "metadata": {},
          "execution_count": 13
        }
      ]
    },
    {
      "cell_type": "code",
      "source": [
        "def stringmatch(text,p):\n",
        "  n = len(text)\n",
        "  l = len(p)\n",
        "  resultado = []\n",
        "\n",
        "  for i in range(n - l +1 ):\n",
        "    if p == text[i:i+l]:\n",
        "      resultado.append(i)\n",
        "\n",
        "  return resultado"
      ],
      "metadata": {
        "id": "IIkmjLEclVVL"
      },
      "execution_count": 24,
      "outputs": []
    },
    {
      "cell_type": "code",
      "source": [
        "stringmatch(\"upc complejidad algoritmica upc\", \"upc\")"
      ],
      "metadata": {
        "colab": {
          "base_uri": "https://localhost:8080/"
        },
        "id": "A-CgAx0Ylni5",
        "outputId": "f97fa86b-cec6-4846-ade9-16df360ddbfb"
      },
      "execution_count": 25,
      "outputs": [
        {
          "output_type": "execute_result",
          "data": {
            "text/plain": [
              "[0, 28]"
            ]
          },
          "metadata": {},
          "execution_count": 25
        }
      ]
    }
  ]
}